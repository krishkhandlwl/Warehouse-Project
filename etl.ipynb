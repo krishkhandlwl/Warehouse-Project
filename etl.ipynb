{
 "cells": [
  {
   "cell_type": "code",
   "execution_count": 1,
   "id": "1c49b572",
   "metadata": {},
   "outputs": [
    {
     "name": "stdout",
     "output_type": "stream",
     "text": [
      "Collecting boto3\n",
      "  Using cached boto3-1.26.126-py3-none-any.whl (135 kB)\n",
      "Collecting botocore<1.30.0,>=1.29.126\n",
      "  Downloading botocore-1.29.126-py3-none-any.whl (10.7 MB)\n",
      "Collecting s3transfer<0.7.0,>=0.6.0\n",
      "  Downloading s3transfer-0.6.0-py3-none-any.whl (79 kB)\n",
      "Collecting jmespath<2.0.0,>=0.7.1\n",
      "  Downloading jmespath-1.0.1-py3-none-any.whl (20 kB)\n",
      "Requirement already satisfied: python-dateutil<3.0.0,>=2.1 in c:\\users\\krish\\anaconda3\\lib\\site-packages (from botocore<1.30.0,>=1.29.126->boto3) (2.8.2)\n",
      "Requirement already satisfied: urllib3<1.27,>=1.25.4 in c:\\users\\krish\\anaconda3\\lib\\site-packages (from botocore<1.30.0,>=1.29.126->boto3) (1.26.7)\n",
      "Requirement already satisfied: six>=1.5 in c:\\users\\krish\\anaconda3\\lib\\site-packages (from python-dateutil<3.0.0,>=2.1->botocore<1.30.0,>=1.29.126->boto3) (1.16.0)\n",
      "Installing collected packages: jmespath, botocore, s3transfer, boto3\n",
      "Successfully installed boto3-1.26.126 botocore-1.29.126 jmespath-1.0.1 s3transfer-0.6.0\n",
      "Note: you may need to restart the kernel to use updated packages.\n"
     ]
    }
   ],
   "source": [
    "pip install boto3"
   ]
  },
  {
   "cell_type": "code",
   "execution_count": 3,
   "id": "082f0a77",
   "metadata": {},
   "outputs": [
    {
     "name": "stdout",
     "output_type": "stream",
     "text": [
      "Collecting psycopg2\n",
      "  Downloading psycopg2-2.9.6-cp39-cp39-win_amd64.whl (1.2 MB)\n",
      "Installing collected packages: psycopg2\n",
      "Successfully installed psycopg2-2.9.6\n",
      "Note: you may need to restart the kernel to use updated packages.\n"
     ]
    }
   ],
   "source": [
    "pip install psycopg2"
   ]
  },
  {
   "cell_type": "code",
   "execution_count": 4,
   "id": "ff7091a8",
   "metadata": {},
   "outputs": [],
   "source": [
    "import boto3\n",
    "import psycopg2\n",
    "import pandas as pd\n"
   ]
  },
  {
   "cell_type": "code",
   "execution_count": 5,
   "id": "63682f53",
   "metadata": {},
   "outputs": [],
   "source": [
    "s3 = boto3.client('s3')"
   ]
  },
  {
   "cell_type": "code",
   "execution_count": null,
   "id": "ba8c342c",
   "metadata": {},
   "outputs": [],
   "source": [
    "conn = psycopg2.connect(\n",
    "    host='redshift-cluster-1',\n",
    "    port=5439,\n",
    "    user='krishkhandlwl',\n",
    "    password='Krishkhandlwl1',\n",
    "    database=''\n",
    ")"
   ]
  },
  {
   "cell_type": "code",
   "execution_count": null,
   "id": "030bee75",
   "metadata": {},
   "outputs": [],
   "source": [
    "def extract_s3_data(bucket, key):\n",
    "    response = s3.get_object(Bucket=bucket, Key=key)\n",
    "    data = response['Body'].read().decode('utf-8')\n",
    "    return data"
   ]
  },
  {
   "cell_type": "code",
   "execution_count": null,
   "id": "c04e43c4",
   "metadata": {},
   "outputs": [],
   "source": [
    "def transform_data(data):\n",
    "    df = pd.read_json(data)\n",
    "    # Apply data cleaning, transformation, and enrichment here\n",
    "    return df.to_csv(index=False)"
   ]
  },
  {
   "cell_type": "code",
   "execution_count": null,
   "id": "c4bac01f",
   "metadata": {},
   "outputs": [],
   "source": [
    "def load_redshift_data(data):\n",
    "    with conn.cursor() as cur:\n",
    "        cur.execute('DROP TABLE IF EXISTS staging_table')\n",
    "        cur.execute('CREATE TABLE staging_table (id INT, name VARCHAR(50), artist VARCHAR(50), duration FLOAT)')\n",
    "        cur.copy_from(data, 'staging_table', sep=',')\n",
    "        conn.commit()"
   ]
  }
 ],
 "metadata": {
  "kernelspec": {
   "display_name": "Python 3 (ipykernel)",
   "language": "python",
   "name": "python3"
  },
  "language_info": {
   "codemirror_mode": {
    "name": "ipython",
    "version": 3
   },
   "file_extension": ".py",
   "mimetype": "text/x-python",
   "name": "python",
   "nbconvert_exporter": "python",
   "pygments_lexer": "ipython3",
   "version": "3.9.7"
  }
 },
 "nbformat": 4,
 "nbformat_minor": 5
}
